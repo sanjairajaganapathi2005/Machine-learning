{
 "cells": [
  {
   "cell_type": "code",
   "execution_count": 1,
   "id": "34f3fea4",
   "metadata": {
    "_cell_guid": "b1076dfc-b9ad-4769-8c92-a6c4dae69d19",
    "_uuid": "8f2839f25d086af736a60e9eeb907d3b93b6e0e5",
    "execution": {
     "iopub.execute_input": "2024-04-15T13:52:42.579837Z",
     "iopub.status.busy": "2024-04-15T13:52:42.578935Z",
     "iopub.status.idle": "2024-04-15T13:52:44.393673Z",
     "shell.execute_reply": "2024-04-15T13:52:44.392069Z"
    },
    "papermill": {
     "duration": 1.839872,
     "end_time": "2024-04-15T13:52:44.397783",
     "exception": false,
     "start_time": "2024-04-15T13:52:42.557911",
     "status": "completed"
    },
    "tags": []
   },
   "outputs": [],
   "source": [
    "##      Importer les librairies pandas numpy seaborn matplotlib.pyplot\n",
    "\n",
    "import numpy as np # linear algebra\n",
    "import pandas as pd # data processing, CSV file I/O (e.g. pd.read_csv)\n",
    "import seaborn as sns\n",
    "import matplotlib.pyplot as plt\n",
    "import os\n",
    "from sklearn.model_selection import train_test_split\n",
    "from sklearn.preprocessing import StandardScaler\n",
    "from sklearn.linear_model import LogisticRegression\n",
    "from sklearn.metrics import confusion_matrix, roc_curve, roc_auc_score\n",
    "\n",
    "df = pd.read_csv('data.csv')"
   ]
  },
  {
   "cell_type": "code",
   "execution_count": 2,
   "id": "cb0b3f66",
   "metadata": {
    "execution": {
     "iopub.execute_input": "2024-04-15T13:52:44.425076Z",
     "iopub.status.busy": "2024-04-15T13:52:44.424550Z",
     "iopub.status.idle": "2024-04-15T13:52:44.521619Z",
     "shell.execute_reply": "2024-04-15T13:52:44.520086Z"
    },
    "papermill": {
     "duration": 0.114792,
     "end_time": "2024-04-15T13:52:44.525087",
     "exception": false,
     "start_time": "2024-04-15T13:52:44.410295",
     "status": "completed"
    },
    "tags": []
   },
   "outputs": [
    {
     "data": {
      "text/html": [
       "<div>\n",
       "<style scoped>\n",
       "    .dataframe tbody tr th:only-of-type {\n",
       "        vertical-align: middle;\n",
       "    }\n",
       "\n",
       "    .dataframe tbody tr th {\n",
       "        vertical-align: top;\n",
       "    }\n",
       "\n",
       "    .dataframe thead th {\n",
       "        text-align: right;\n",
       "    }\n",
       "</style>\n",
       "<table border=\"1\" class=\"dataframe\">\n",
       "  <thead>\n",
       "    <tr style=\"text-align: right;\">\n",
       "      <th></th>\n",
       "      <th>price</th>\n",
       "      <th>bedrooms</th>\n",
       "      <th>bathrooms</th>\n",
       "      <th>sqft_living</th>\n",
       "      <th>sqft_lot</th>\n",
       "      <th>floors</th>\n",
       "      <th>waterfront</th>\n",
       "      <th>view</th>\n",
       "      <th>condition</th>\n",
       "      <th>sqft_above</th>\n",
       "      <th>sqft_basement</th>\n",
       "      <th>yr_built</th>\n",
       "      <th>yr_renovated</th>\n",
       "    </tr>\n",
       "  </thead>\n",
       "  <tbody>\n",
       "    <tr>\n",
       "      <th>count</th>\n",
       "      <td>4.600000e+03</td>\n",
       "      <td>4600.000000</td>\n",
       "      <td>4600.000000</td>\n",
       "      <td>4600.000000</td>\n",
       "      <td>4.600000e+03</td>\n",
       "      <td>4600.000000</td>\n",
       "      <td>4600.000000</td>\n",
       "      <td>4600.000000</td>\n",
       "      <td>4600.000000</td>\n",
       "      <td>4600.000000</td>\n",
       "      <td>4600.000000</td>\n",
       "      <td>4600.000000</td>\n",
       "      <td>4600.000000</td>\n",
       "    </tr>\n",
       "    <tr>\n",
       "      <th>mean</th>\n",
       "      <td>5.519630e+05</td>\n",
       "      <td>3.400870</td>\n",
       "      <td>2.160815</td>\n",
       "      <td>2139.346957</td>\n",
       "      <td>1.485252e+04</td>\n",
       "      <td>1.512065</td>\n",
       "      <td>0.007174</td>\n",
       "      <td>0.240652</td>\n",
       "      <td>3.451739</td>\n",
       "      <td>1827.265435</td>\n",
       "      <td>312.081522</td>\n",
       "      <td>1970.786304</td>\n",
       "      <td>808.608261</td>\n",
       "    </tr>\n",
       "    <tr>\n",
       "      <th>std</th>\n",
       "      <td>5.638347e+05</td>\n",
       "      <td>0.908848</td>\n",
       "      <td>0.783781</td>\n",
       "      <td>963.206916</td>\n",
       "      <td>3.588444e+04</td>\n",
       "      <td>0.538288</td>\n",
       "      <td>0.084404</td>\n",
       "      <td>0.778405</td>\n",
       "      <td>0.677230</td>\n",
       "      <td>862.168977</td>\n",
       "      <td>464.137228</td>\n",
       "      <td>29.731848</td>\n",
       "      <td>979.414536</td>\n",
       "    </tr>\n",
       "    <tr>\n",
       "      <th>min</th>\n",
       "      <td>0.000000e+00</td>\n",
       "      <td>0.000000</td>\n",
       "      <td>0.000000</td>\n",
       "      <td>370.000000</td>\n",
       "      <td>6.380000e+02</td>\n",
       "      <td>1.000000</td>\n",
       "      <td>0.000000</td>\n",
       "      <td>0.000000</td>\n",
       "      <td>1.000000</td>\n",
       "      <td>370.000000</td>\n",
       "      <td>0.000000</td>\n",
       "      <td>1900.000000</td>\n",
       "      <td>0.000000</td>\n",
       "    </tr>\n",
       "    <tr>\n",
       "      <th>25%</th>\n",
       "      <td>3.228750e+05</td>\n",
       "      <td>3.000000</td>\n",
       "      <td>1.750000</td>\n",
       "      <td>1460.000000</td>\n",
       "      <td>5.000750e+03</td>\n",
       "      <td>1.000000</td>\n",
       "      <td>0.000000</td>\n",
       "      <td>0.000000</td>\n",
       "      <td>3.000000</td>\n",
       "      <td>1190.000000</td>\n",
       "      <td>0.000000</td>\n",
       "      <td>1951.000000</td>\n",
       "      <td>0.000000</td>\n",
       "    </tr>\n",
       "    <tr>\n",
       "      <th>50%</th>\n",
       "      <td>4.609435e+05</td>\n",
       "      <td>3.000000</td>\n",
       "      <td>2.250000</td>\n",
       "      <td>1980.000000</td>\n",
       "      <td>7.683000e+03</td>\n",
       "      <td>1.500000</td>\n",
       "      <td>0.000000</td>\n",
       "      <td>0.000000</td>\n",
       "      <td>3.000000</td>\n",
       "      <td>1590.000000</td>\n",
       "      <td>0.000000</td>\n",
       "      <td>1976.000000</td>\n",
       "      <td>0.000000</td>\n",
       "    </tr>\n",
       "    <tr>\n",
       "      <th>75%</th>\n",
       "      <td>6.549625e+05</td>\n",
       "      <td>4.000000</td>\n",
       "      <td>2.500000</td>\n",
       "      <td>2620.000000</td>\n",
       "      <td>1.100125e+04</td>\n",
       "      <td>2.000000</td>\n",
       "      <td>0.000000</td>\n",
       "      <td>0.000000</td>\n",
       "      <td>4.000000</td>\n",
       "      <td>2300.000000</td>\n",
       "      <td>610.000000</td>\n",
       "      <td>1997.000000</td>\n",
       "      <td>1999.000000</td>\n",
       "    </tr>\n",
       "    <tr>\n",
       "      <th>max</th>\n",
       "      <td>2.659000e+07</td>\n",
       "      <td>9.000000</td>\n",
       "      <td>8.000000</td>\n",
       "      <td>13540.000000</td>\n",
       "      <td>1.074218e+06</td>\n",
       "      <td>3.500000</td>\n",
       "      <td>1.000000</td>\n",
       "      <td>4.000000</td>\n",
       "      <td>5.000000</td>\n",
       "      <td>9410.000000</td>\n",
       "      <td>4820.000000</td>\n",
       "      <td>2014.000000</td>\n",
       "      <td>2014.000000</td>\n",
       "    </tr>\n",
       "  </tbody>\n",
       "</table>\n",
       "</div>"
      ],
      "text/plain": [
       "              price     bedrooms    bathrooms   sqft_living      sqft_lot  \\\n",
       "count  4.600000e+03  4600.000000  4600.000000   4600.000000  4.600000e+03   \n",
       "mean   5.519630e+05     3.400870     2.160815   2139.346957  1.485252e+04   \n",
       "std    5.638347e+05     0.908848     0.783781    963.206916  3.588444e+04   \n",
       "min    0.000000e+00     0.000000     0.000000    370.000000  6.380000e+02   \n",
       "25%    3.228750e+05     3.000000     1.750000   1460.000000  5.000750e+03   \n",
       "50%    4.609435e+05     3.000000     2.250000   1980.000000  7.683000e+03   \n",
       "75%    6.549625e+05     4.000000     2.500000   2620.000000  1.100125e+04   \n",
       "max    2.659000e+07     9.000000     8.000000  13540.000000  1.074218e+06   \n",
       "\n",
       "            floors   waterfront         view    condition   sqft_above  \\\n",
       "count  4600.000000  4600.000000  4600.000000  4600.000000  4600.000000   \n",
       "mean      1.512065     0.007174     0.240652     3.451739  1827.265435   \n",
       "std       0.538288     0.084404     0.778405     0.677230   862.168977   \n",
       "min       1.000000     0.000000     0.000000     1.000000   370.000000   \n",
       "25%       1.000000     0.000000     0.000000     3.000000  1190.000000   \n",
       "50%       1.500000     0.000000     0.000000     3.000000  1590.000000   \n",
       "75%       2.000000     0.000000     0.000000     4.000000  2300.000000   \n",
       "max       3.500000     1.000000     4.000000     5.000000  9410.000000   \n",
       "\n",
       "       sqft_basement     yr_built  yr_renovated  \n",
       "count    4600.000000  4600.000000   4600.000000  \n",
       "mean      312.081522  1970.786304    808.608261  \n",
       "std       464.137228    29.731848    979.414536  \n",
       "min         0.000000  1900.000000      0.000000  \n",
       "25%         0.000000  1951.000000      0.000000  \n",
       "50%         0.000000  1976.000000      0.000000  \n",
       "75%       610.000000  1997.000000   1999.000000  \n",
       "max      4820.000000  2014.000000   2014.000000  "
      ]
     },
     "execution_count": 2,
     "metadata": {},
     "output_type": "execute_result"
    }
   ],
   "source": [
    "df.shape\n",
    "df.isnull().sum()\n",
    "df.dtypes\n",
    "df.describe()"
   ]
  },
  {
   "cell_type": "markdown",
   "id": "28aa2600",
   "metadata": {
    "papermill": {
     "duration": 0.012296,
     "end_time": "2024-04-15T13:52:44.550235",
     "exception": false,
     "start_time": "2024-04-15T13:52:44.537939",
     "status": "completed"
    },
    "tags": []
   },
   "source": [
    "**Question 2**"
   ]
  },
  {
   "cell_type": "code",
   "execution_count": 3,
   "id": "d67e7f9e",
   "metadata": {
    "execution": {
     "iopub.execute_input": "2024-04-15T13:52:44.578356Z",
     "iopub.status.busy": "2024-04-15T13:52:44.577283Z",
     "iopub.status.idle": "2024-04-15T13:52:45.790890Z",
     "shell.execute_reply": "2024-04-15T13:52:45.789298Z"
    },
    "papermill": {
     "duration": 1.234307,
     "end_time": "2024-04-15T13:52:45.797149",
     "exception": false,
     "start_time": "2024-04-15T13:52:44.562842",
     "status": "completed"
    },
    "tags": []
   },
   "outputs": [
    {
     "data": {
      "text/plain": [
       "\"plt.figure(figsize=(10,10))\\nsns.heatmap(df.corr(), annot=True, fmt='.0%')\\nplt.show() \""
      ]
     },
     "execution_count": 3,
     "metadata": {},
     "output_type": "execute_result"
    }
   ],
   "source": [
    "\"\"\"plt.figure(figsize=(10,10))\n",
    "sns.heatmap(df.corr(), annot=True, fmt='.0%')\n",
    "plt.show() \"\"\" #heap map"
   ]
  },
  {
   "cell_type": "markdown",
   "id": "a95a4555",
   "metadata": {
    "papermill": {
     "duration": 0.015965,
     "end_time": "2024-04-15T13:52:45.829982",
     "exception": false,
     "start_time": "2024-04-15T13:52:45.814017",
     "status": "completed"
    },
    "tags": []
   },
   "source": [
    "**Question 3**"
   ]
  },
  {
   "cell_type": "markdown",
   "id": "5f2d6c4c",
   "metadata": {
    "papermill": {
     "duration": 0.01557,
     "end_time": "2024-04-15T13:52:45.861693",
     "exception": false,
     "start_time": "2024-04-15T13:52:45.846123",
     "status": "completed"
    },
    "tags": []
   },
   "source": [
    "On constate des colonnes de type float\n",
    "Il faudrait dans l'idéal avoir des int \n",
    "nous allons donc devoir les converitr"
   ]
  },
  {
   "cell_type": "code",
   "execution_count": 4,
   "id": "b8b18539",
   "metadata": {
    "execution": {
     "iopub.execute_input": "2024-04-15T13:52:45.896865Z",
     "iopub.status.busy": "2024-04-15T13:52:45.895563Z",
     "iopub.status.idle": "2024-04-15T13:52:45.906329Z",
     "shell.execute_reply": "2024-04-15T13:52:45.905332Z"
    },
    "papermill": {
     "duration": 0.031603,
     "end_time": "2024-04-15T13:52:45.909328",
     "exception": false,
     "start_time": "2024-04-15T13:52:45.877725",
     "status": "completed"
    },
    "tags": []
   },
   "outputs": [],
   "source": [
    "df['price'] = df['price'].astype('int64')\n",
    "df['bedrooms'] = df['bedrooms'].astype('int64')\n",
    "df['bathrooms'] = df['bathrooms'].astype('int64')\n",
    "df['floors'] = df['floors'].astype('int64')"
   ]
  },
  {
   "cell_type": "markdown",
   "id": "d5201d24",
   "metadata": {
    "papermill": {
     "duration": 0.015488,
     "end_time": "2024-04-15T13:52:45.941140",
     "exception": false,
     "start_time": "2024-04-15T13:52:45.925652",
     "status": "completed"
    },
    "tags": []
   },
   "source": [
    "**Question 4**"
   ]
  },
  {
   "cell_type": "code",
   "execution_count": 5,
   "id": "35237371",
   "metadata": {
    "execution": {
     "iopub.execute_input": "2024-04-15T13:52:45.975924Z",
     "iopub.status.busy": "2024-04-15T13:52:45.974940Z",
     "iopub.status.idle": "2024-04-15T13:52:45.987479Z",
     "shell.execute_reply": "2024-04-15T13:52:45.986040Z"
    },
    "papermill": {
     "duration": 0.033661,
     "end_time": "2024-04-15T13:52:45.990722",
     "exception": false,
     "start_time": "2024-04-15T13:52:45.957061",
     "status": "completed"
    },
    "tags": []
   },
   "outputs": [
    {
     "data": {
      "text/plain": [
       "date             object\n",
       "price             int64\n",
       "bedrooms          int64\n",
       "bathrooms         int64\n",
       "sqft_living       int64\n",
       "sqft_lot          int64\n",
       "floors            int64\n",
       "waterfront        int64\n",
       "view              int64\n",
       "condition         int64\n",
       "sqft_above        int64\n",
       "sqft_basement     int64\n",
       "yr_built          int64\n",
       "yr_renovated      int64\n",
       "street           object\n",
       "city             object\n",
       "statezip         object\n",
       "country          object\n",
       "dtype: object"
      ]
     },
     "execution_count": 5,
     "metadata": {},
     "output_type": "execute_result"
    }
   ],
   "source": [
    "df.dtypes"
   ]
  },
  {
   "cell_type": "markdown",
   "id": "090af108",
   "metadata": {
    "papermill": {
     "duration": 0.015811,
     "end_time": "2024-04-15T13:52:46.024017",
     "exception": false,
     "start_time": "2024-04-15T13:52:46.008206",
     "status": "completed"
    },
    "tags": []
   },
   "source": [
    "On remarque tout est bien en int"
   ]
  },
  {
   "cell_type": "markdown",
   "id": "92718230",
   "metadata": {
    "papermill": {
     "duration": 0.015699,
     "end_time": "2024-04-15T13:52:46.055981",
     "exception": false,
     "start_time": "2024-04-15T13:52:46.040282",
     "status": "completed"
    },
    "tags": []
   },
   "source": [
    "**Question 5**"
   ]
  },
  {
   "cell_type": "markdown",
   "id": "5d991f59",
   "metadata": {
    "papermill": {
     "duration": 0.015717,
     "end_time": "2024-04-15T13:52:46.087831",
     "exception": false,
     "start_time": "2024-04-15T13:52:46.072114",
     "status": "completed"
    },
    "tags": []
   },
   "source": [
    "Les prix sont tous élevé"
   ]
  },
  {
   "cell_type": "markdown",
   "id": "7fbe93c5",
   "metadata": {
    "papermill": {
     "duration": 0.01574,
     "end_time": "2024-04-15T13:52:46.120299",
     "exception": false,
     "start_time": "2024-04-15T13:52:46.104559",
     "status": "completed"
    },
    "tags": []
   },
   "source": [
    "**Question 6**"
   ]
  },
  {
   "cell_type": "code",
   "execution_count": 6,
   "id": "523039bb",
   "metadata": {
    "execution": {
     "iopub.execute_input": "2024-04-15T13:52:46.156685Z",
     "iopub.status.busy": "2024-04-15T13:52:46.155105Z",
     "iopub.status.idle": "2024-04-15T13:52:46.163606Z",
     "shell.execute_reply": "2024-04-15T13:52:46.162516Z"
    },
    "papermill": {
     "duration": 0.029321,
     "end_time": "2024-04-15T13:52:46.166485",
     "exception": false,
     "start_time": "2024-04-15T13:52:46.137164",
     "status": "completed"
    },
    "tags": []
   },
   "outputs": [],
   "source": [
    "df['price'].replace(0, np.nan, inplace=True)"
   ]
  },
  {
   "cell_type": "markdown",
   "id": "35035250",
   "metadata": {
    "papermill": {
     "duration": 0.015851,
     "end_time": "2024-04-15T13:52:46.198734",
     "exception": false,
     "start_time": "2024-04-15T13:52:46.182883",
     "status": "completed"
    },
    "tags": []
   },
   "source": [
    "**Question 7**"
   ]
  },
  {
   "cell_type": "code",
   "execution_count": 7,
   "id": "501634ae",
   "metadata": {
    "execution": {
     "iopub.execute_input": "2024-04-15T13:52:46.235196Z",
     "iopub.status.busy": "2024-04-15T13:52:46.234186Z",
     "iopub.status.idle": "2024-04-15T13:52:46.249796Z",
     "shell.execute_reply": "2024-04-15T13:52:46.248370Z"
    },
    "papermill": {
     "duration": 0.036571,
     "end_time": "2024-04-15T13:52:46.252599",
     "exception": false,
     "start_time": "2024-04-15T13:52:46.216028",
     "status": "completed"
    },
    "tags": []
   },
   "outputs": [
    {
     "data": {
      "text/plain": [
       "date              0\n",
       "price            49\n",
       "bedrooms          0\n",
       "bathrooms         0\n",
       "sqft_living       0\n",
       "sqft_lot          0\n",
       "floors            0\n",
       "waterfront        0\n",
       "view              0\n",
       "condition         0\n",
       "sqft_above        0\n",
       "sqft_basement     0\n",
       "yr_built          0\n",
       "yr_renovated      0\n",
       "street            0\n",
       "city              0\n",
       "statezip          0\n",
       "country           0\n",
       "dtype: int64"
      ]
     },
     "execution_count": 7,
     "metadata": {},
     "output_type": "execute_result"
    }
   ],
   "source": [
    "df.isna().sum()"
   ]
  },
  {
   "cell_type": "markdown",
   "id": "d4377f1e",
   "metadata": {
    "papermill": {
     "duration": 0.015915,
     "end_time": "2024-04-15T13:52:46.285274",
     "exception": false,
     "start_time": "2024-04-15T13:52:46.269359",
     "status": "completed"
    },
    "tags": []
   },
   "source": [
    "**Question 8**"
   ]
  },
  {
   "cell_type": "code",
   "execution_count": 8,
   "id": "5324247d",
   "metadata": {
    "execution": {
     "iopub.execute_input": "2024-04-15T13:52:46.320954Z",
     "iopub.status.busy": "2024-04-15T13:52:46.319979Z",
     "iopub.status.idle": "2024-04-15T13:52:46.327317Z",
     "shell.execute_reply": "2024-04-15T13:52:46.326361Z"
    },
    "papermill": {
     "duration": 0.028462,
     "end_time": "2024-04-15T13:52:46.330150",
     "exception": false,
     "start_time": "2024-04-15T13:52:46.301688",
     "status": "completed"
    },
    "tags": []
   },
   "outputs": [],
   "source": [
    "df['price'].fillna(df['price'].mean(), inplace=True)"
   ]
  },
  {
   "cell_type": "markdown",
   "id": "f7b77caa",
   "metadata": {
    "papermill": {
     "duration": 0.015834,
     "end_time": "2024-04-15T13:52:46.362216",
     "exception": false,
     "start_time": "2024-04-15T13:52:46.346382",
     "status": "completed"
    },
    "tags": []
   },
   "source": [
    "**Question 9**"
   ]
  },
  {
   "cell_type": "code",
   "execution_count": 9,
   "id": "5876edee",
   "metadata": {
    "execution": {
     "iopub.execute_input": "2024-04-15T13:52:46.397456Z",
     "iopub.status.busy": "2024-04-15T13:52:46.396463Z",
     "iopub.status.idle": "2024-04-15T13:52:46.412677Z",
     "shell.execute_reply": "2024-04-15T13:52:46.411112Z"
    },
    "papermill": {
     "duration": 0.037409,
     "end_time": "2024-04-15T13:52:46.415808",
     "exception": false,
     "start_time": "2024-04-15T13:52:46.378399",
     "status": "completed"
    },
    "tags": []
   },
   "outputs": [
    {
     "data": {
      "text/plain": [
       "date             0\n",
       "price            0\n",
       "bedrooms         0\n",
       "bathrooms        0\n",
       "sqft_living      0\n",
       "sqft_lot         0\n",
       "floors           0\n",
       "waterfront       0\n",
       "view             0\n",
       "condition        0\n",
       "sqft_above       0\n",
       "sqft_basement    0\n",
       "yr_built         0\n",
       "yr_renovated     0\n",
       "street           0\n",
       "city             0\n",
       "statezip         0\n",
       "country          0\n",
       "dtype: int64"
      ]
     },
     "execution_count": 9,
     "metadata": {},
     "output_type": "execute_result"
    }
   ],
   "source": [
    "df.isna().sum()"
   ]
  },
  {
   "cell_type": "markdown",
   "id": "bf7b533a",
   "metadata": {
    "papermill": {
     "duration": 0.016495,
     "end_time": "2024-04-15T13:52:46.449175",
     "exception": false,
     "start_time": "2024-04-15T13:52:46.432680",
     "status": "completed"
    },
    "tags": []
   },
   "source": [
    "**Question 10**"
   ]
  },
  {
   "cell_type": "code",
   "execution_count": 10,
   "id": "c614118c",
   "metadata": {
    "execution": {
     "iopub.execute_input": "2024-04-15T13:52:46.484945Z",
     "iopub.status.busy": "2024-04-15T13:52:46.484421Z",
     "iopub.status.idle": "2024-04-15T13:52:46.511772Z",
     "shell.execute_reply": "2024-04-15T13:52:46.510343Z"
    },
    "papermill": {
     "duration": 0.04887,
     "end_time": "2024-04-15T13:52:46.514914",
     "exception": false,
     "start_time": "2024-04-15T13:52:46.466044",
     "status": "completed"
    },
    "tags": []
   },
   "outputs": [
    {
     "data": {
      "text/html": [
       "<div>\n",
       "<style scoped>\n",
       "    .dataframe tbody tr th:only-of-type {\n",
       "        vertical-align: middle;\n",
       "    }\n",
       "\n",
       "    .dataframe tbody tr th {\n",
       "        vertical-align: top;\n",
       "    }\n",
       "\n",
       "    .dataframe thead th {\n",
       "        text-align: right;\n",
       "    }\n",
       "</style>\n",
       "<table border=\"1\" class=\"dataframe\">\n",
       "  <thead>\n",
       "    <tr style=\"text-align: right;\">\n",
       "      <th></th>\n",
       "      <th>Algona</th>\n",
       "      <th>Auburn</th>\n",
       "      <th>Beaux Arts Village</th>\n",
       "      <th>Bellevue</th>\n",
       "      <th>Black Diamond</th>\n",
       "      <th>Bothell</th>\n",
       "      <th>Burien</th>\n",
       "      <th>Carnation</th>\n",
       "      <th>Clyde Hill</th>\n",
       "      <th>Covington</th>\n",
       "      <th>...</th>\n",
       "      <th>SeaTac</th>\n",
       "      <th>Seattle</th>\n",
       "      <th>Shoreline</th>\n",
       "      <th>Skykomish</th>\n",
       "      <th>Snoqualmie</th>\n",
       "      <th>Snoqualmie Pass</th>\n",
       "      <th>Tukwila</th>\n",
       "      <th>Vashon</th>\n",
       "      <th>Woodinville</th>\n",
       "      <th>Yarrow Point</th>\n",
       "    </tr>\n",
       "  </thead>\n",
       "  <tbody>\n",
       "    <tr>\n",
       "      <th>0</th>\n",
       "      <td>False</td>\n",
       "      <td>False</td>\n",
       "      <td>False</td>\n",
       "      <td>False</td>\n",
       "      <td>False</td>\n",
       "      <td>False</td>\n",
       "      <td>False</td>\n",
       "      <td>False</td>\n",
       "      <td>False</td>\n",
       "      <td>False</td>\n",
       "      <td>...</td>\n",
       "      <td>False</td>\n",
       "      <td>False</td>\n",
       "      <td>True</td>\n",
       "      <td>False</td>\n",
       "      <td>False</td>\n",
       "      <td>False</td>\n",
       "      <td>False</td>\n",
       "      <td>False</td>\n",
       "      <td>False</td>\n",
       "      <td>False</td>\n",
       "    </tr>\n",
       "    <tr>\n",
       "      <th>1</th>\n",
       "      <td>False</td>\n",
       "      <td>False</td>\n",
       "      <td>False</td>\n",
       "      <td>False</td>\n",
       "      <td>False</td>\n",
       "      <td>False</td>\n",
       "      <td>False</td>\n",
       "      <td>False</td>\n",
       "      <td>False</td>\n",
       "      <td>False</td>\n",
       "      <td>...</td>\n",
       "      <td>False</td>\n",
       "      <td>True</td>\n",
       "      <td>False</td>\n",
       "      <td>False</td>\n",
       "      <td>False</td>\n",
       "      <td>False</td>\n",
       "      <td>False</td>\n",
       "      <td>False</td>\n",
       "      <td>False</td>\n",
       "      <td>False</td>\n",
       "    </tr>\n",
       "    <tr>\n",
       "      <th>2</th>\n",
       "      <td>False</td>\n",
       "      <td>False</td>\n",
       "      <td>False</td>\n",
       "      <td>False</td>\n",
       "      <td>False</td>\n",
       "      <td>False</td>\n",
       "      <td>False</td>\n",
       "      <td>False</td>\n",
       "      <td>False</td>\n",
       "      <td>False</td>\n",
       "      <td>...</td>\n",
       "      <td>False</td>\n",
       "      <td>False</td>\n",
       "      <td>False</td>\n",
       "      <td>False</td>\n",
       "      <td>False</td>\n",
       "      <td>False</td>\n",
       "      <td>False</td>\n",
       "      <td>False</td>\n",
       "      <td>False</td>\n",
       "      <td>False</td>\n",
       "    </tr>\n",
       "    <tr>\n",
       "      <th>3</th>\n",
       "      <td>False</td>\n",
       "      <td>False</td>\n",
       "      <td>False</td>\n",
       "      <td>True</td>\n",
       "      <td>False</td>\n",
       "      <td>False</td>\n",
       "      <td>False</td>\n",
       "      <td>False</td>\n",
       "      <td>False</td>\n",
       "      <td>False</td>\n",
       "      <td>...</td>\n",
       "      <td>False</td>\n",
       "      <td>False</td>\n",
       "      <td>False</td>\n",
       "      <td>False</td>\n",
       "      <td>False</td>\n",
       "      <td>False</td>\n",
       "      <td>False</td>\n",
       "      <td>False</td>\n",
       "      <td>False</td>\n",
       "      <td>False</td>\n",
       "    </tr>\n",
       "    <tr>\n",
       "      <th>4</th>\n",
       "      <td>False</td>\n",
       "      <td>False</td>\n",
       "      <td>False</td>\n",
       "      <td>False</td>\n",
       "      <td>False</td>\n",
       "      <td>False</td>\n",
       "      <td>False</td>\n",
       "      <td>False</td>\n",
       "      <td>False</td>\n",
       "      <td>False</td>\n",
       "      <td>...</td>\n",
       "      <td>False</td>\n",
       "      <td>False</td>\n",
       "      <td>False</td>\n",
       "      <td>False</td>\n",
       "      <td>False</td>\n",
       "      <td>False</td>\n",
       "      <td>False</td>\n",
       "      <td>False</td>\n",
       "      <td>False</td>\n",
       "      <td>False</td>\n",
       "    </tr>\n",
       "  </tbody>\n",
       "</table>\n",
       "<p>5 rows × 44 columns</p>\n",
       "</div>"
      ],
      "text/plain": [
       "   Algona  Auburn  Beaux Arts Village  Bellevue  Black Diamond  Bothell  \\\n",
       "0   False   False               False     False          False    False   \n",
       "1   False   False               False     False          False    False   \n",
       "2   False   False               False     False          False    False   \n",
       "3   False   False               False      True          False    False   \n",
       "4   False   False               False     False          False    False   \n",
       "\n",
       "   Burien  Carnation  Clyde Hill  Covington  ...  SeaTac  Seattle  Shoreline  \\\n",
       "0   False      False       False      False  ...   False    False       True   \n",
       "1   False      False       False      False  ...   False     True      False   \n",
       "2   False      False       False      False  ...   False    False      False   \n",
       "3   False      False       False      False  ...   False    False      False   \n",
       "4   False      False       False      False  ...   False    False      False   \n",
       "\n",
       "   Skykomish  Snoqualmie  Snoqualmie Pass  Tukwila  Vashon  Woodinville  \\\n",
       "0      False       False            False    False   False        False   \n",
       "1      False       False            False    False   False        False   \n",
       "2      False       False            False    False   False        False   \n",
       "3      False       False            False    False   False        False   \n",
       "4      False       False            False    False   False        False   \n",
       "\n",
       "   Yarrow Point  \n",
       "0         False  \n",
       "1         False  \n",
       "2         False  \n",
       "3         False  \n",
       "4         False  \n",
       "\n",
       "[5 rows x 44 columns]"
      ]
     },
     "execution_count": 10,
     "metadata": {},
     "output_type": "execute_result"
    }
   ],
   "source": [
    "ville = pd.get_dummies(df['city'])\n",
    "ville.head()"
   ]
  },
  {
   "cell_type": "markdown",
   "id": "5fc705dd",
   "metadata": {
    "papermill": {
     "duration": 0.016509,
     "end_time": "2024-04-15T13:52:46.548623",
     "exception": false,
     "start_time": "2024-04-15T13:52:46.532114",
     "status": "completed"
    },
    "tags": []
   },
   "source": [
    "**Question 11**"
   ]
  },
  {
   "cell_type": "code",
   "execution_count": 11,
   "id": "a05789a6",
   "metadata": {
    "execution": {
     "iopub.execute_input": "2024-04-15T13:52:46.584642Z",
     "iopub.status.busy": "2024-04-15T13:52:46.584161Z",
     "iopub.status.idle": "2024-04-15T13:52:46.594153Z",
     "shell.execute_reply": "2024-04-15T13:52:46.592633Z"
    },
    "papermill": {
     "duration": 0.031924,
     "end_time": "2024-04-15T13:52:46.597337",
     "exception": false,
     "start_time": "2024-04-15T13:52:46.565413",
     "status": "completed"
    },
    "tags": []
   },
   "outputs": [],
   "source": [
    "df.drop(['city', 'country', 'statezip', 'street', 'date'], axis=1, inplace=True)"
   ]
  },
  {
   "cell_type": "markdown",
   "id": "012d3a90",
   "metadata": {
    "papermill": {
     "duration": 0.01757,
     "end_time": "2024-04-15T13:52:46.632046",
     "exception": false,
     "start_time": "2024-04-15T13:52:46.614476",
     "status": "completed"
    },
    "tags": []
   },
   "source": [
    "**Question 12**"
   ]
  },
  {
   "cell_type": "code",
   "execution_count": 21,
   "id": "e33b1b82",
   "metadata": {
    "execution": {
     "iopub.execute_input": "2024-04-15T13:52:46.669639Z",
     "iopub.status.busy": "2024-04-15T13:52:46.669158Z",
     "iopub.status.idle": "2024-04-15T13:52:46.676680Z",
     "shell.execute_reply": "2024-04-15T13:52:46.675124Z"
    },
    "papermill": {
     "duration": 0.029712,
     "end_time": "2024-04-15T13:52:46.679313",
     "exception": false,
     "start_time": "2024-04-15T13:52:46.649601",
     "status": "completed"
    },
    "tags": []
   },
   "outputs": [],
   "source": [
    "#dt = pd.concat([df, ville], axis=1)\n",
    "scaled_df =df"
   ]
  },
  {
   "cell_type": "code",
   "execution_count": 22,
   "id": "f2f13aae",
   "metadata": {
    "execution": {
     "iopub.execute_input": "2024-04-15T13:52:46.716336Z",
     "iopub.status.busy": "2024-04-15T13:52:46.715616Z",
     "iopub.status.idle": "2024-04-15T13:52:46.737856Z",
     "shell.execute_reply": "2024-04-15T13:52:46.736503Z"
    },
    "papermill": {
     "duration": 0.044309,
     "end_time": "2024-04-15T13:52:46.741037",
     "exception": false,
     "start_time": "2024-04-15T13:52:46.696728",
     "status": "completed"
    },
    "tags": []
   },
   "outputs": [],
   "source": [
    "# from sklearn.preprocessing import StandardScaler\n",
    "# scaler = StandardScaler()\n",
    "# Cols = list(dt.columns)\n",
    "# scaled_df = scaler.fit_transform(dt[Cols])\n",
    "# scaled_df = pd.DataFrame(scaled_df, columns=Cols)"
   ]
  },
  {
   "cell_type": "code",
   "execution_count": 23,
   "id": "9b7e7d8f",
   "metadata": {},
   "outputs": [
    {
     "name": "stdout",
     "output_type": "stream",
     "text": [
      "18\n"
     ]
    }
   ],
   "source": [
    "fea = [\n",
    "    \"date\", \"price\", \"bedrooms\", \"bathrooms\", \"sqft_living\", \"sqft_lot\", \"floors\", \n",
    "    \"waterfront\", \"view\", \"condition\", \"sqft_above\", \"sqft_basement\", \"yr_built\", \n",
    "    \"yr_renovated\", \"street\", \"city\", \"statezip\", \"country\"\n",
    "]\n",
    "print(len(fea))"
   ]
  },
  {
   "cell_type": "markdown",
   "id": "d4595006",
   "metadata": {
    "papermill": {
     "duration": 0.017079,
     "end_time": "2024-04-15T13:52:46.775615",
     "exception": false,
     "start_time": "2024-04-15T13:52:46.758536",
     "status": "completed"
    },
    "tags": []
   },
   "source": [
    "**Question 13**\n",
    "    ·        Créer la variable cible y  y=scaled_df[‘cible’]\n",
    "    ·        Créer X=scaled_df en supprimant la variable cible."
   ]
  },
  {
   "cell_type": "code",
   "execution_count": 24,
   "id": "4880f340",
   "metadata": {
    "execution": {
     "iopub.execute_input": "2024-04-15T13:52:46.812468Z",
     "iopub.status.busy": "2024-04-15T13:52:46.811991Z",
     "iopub.status.idle": "2024-04-15T13:52:46.820176Z",
     "shell.execute_reply": "2024-04-15T13:52:46.818852Z"
    },
    "papermill": {
     "duration": 0.029616,
     "end_time": "2024-04-15T13:52:46.822848",
     "exception": false,
     "start_time": "2024-04-15T13:52:46.793232",
     "status": "completed"
    },
    "tags": []
   },
   "outputs": [],
   "source": [
    "y = scaled_df['price']\n",
    "X = scaled_df.drop(['price'], axis=1)"
   ]
  },
  {
   "cell_type": "code",
   "execution_count": 25,
   "id": "3aab0e48",
   "metadata": {},
   "outputs": [
    {
     "name": "stdout",
     "output_type": "stream",
     "text": [
      "   bedrooms  bathrooms  sqft_living  sqft_lot  floors  waterfront  view  \\\n",
      "0         3          1         1340      7912       1           0     0   \n",
      "\n",
      "   condition  sqft_above  sqft_basement  yr_built  yr_renovated  \n",
      "0          3        1340              0      1955          2005  \n"
     ]
    }
   ],
   "source": [
    "print(X.head(1))"
   ]
  },
  {
   "cell_type": "code",
   "execution_count": 26,
   "id": "ddbea949",
   "metadata": {},
   "outputs": [
    {
     "name": "stdout",
     "output_type": "stream",
     "text": [
      "0     313000.0\n",
      "1    2384000.0\n",
      "2     342000.0\n",
      "3     420000.0\n",
      "4     550000.0\n",
      "Name: price, dtype: float64\n"
     ]
    }
   ],
   "source": [
    "print(y.head(5))"
   ]
  },
  {
   "cell_type": "markdown",
   "id": "043df169",
   "metadata": {
    "papermill": {
     "duration": 0.016472,
     "end_time": "2024-04-15T13:52:46.856286",
     "exception": false,
     "start_time": "2024-04-15T13:52:46.839814",
     "status": "completed"
    },
    "tags": []
   },
   "source": [
    "**Question 14**"
   ]
  },
  {
   "cell_type": "code",
   "execution_count": 27,
   "id": "b4eddd8a",
   "metadata": {
    "execution": {
     "iopub.execute_input": "2024-04-15T13:52:46.892136Z",
     "iopub.status.busy": "2024-04-15T13:52:46.891699Z",
     "iopub.status.idle": "2024-04-15T13:52:46.902702Z",
     "shell.execute_reply": "2024-04-15T13:52:46.901416Z"
    },
    "papermill": {
     "duration": 0.032389,
     "end_time": "2024-04-15T13:52:46.905450",
     "exception": false,
     "start_time": "2024-04-15T13:52:46.873061",
     "status": "completed"
    },
    "tags": []
   },
   "outputs": [],
   "source": [
    "from sklearn.model_selection import train_test_split\n",
    "X_train, X_test, Y_train, Y_test = train_test_split(X, y, test_size=0.2, random_state=0)"
   ]
  },
  {
   "cell_type": "markdown",
   "id": "a25fb402",
   "metadata": {
    "papermill": {
     "duration": 0.016686,
     "end_time": "2024-04-15T13:52:46.938984",
     "exception": false,
     "start_time": "2024-04-15T13:52:46.922298",
     "status": "completed"
    },
    "tags": []
   },
   "source": [
    "**Question 15**"
   ]
  },
  {
   "cell_type": "code",
   "execution_count": 28,
   "id": "92298e5f",
   "metadata": {
    "execution": {
     "iopub.execute_input": "2024-04-15T13:52:46.976189Z",
     "iopub.status.busy": "2024-04-15T13:52:46.975696Z",
     "iopub.status.idle": "2024-04-15T13:52:46.981649Z",
     "shell.execute_reply": "2024-04-15T13:52:46.980727Z"
    },
    "papermill": {
     "duration": 0.027347,
     "end_time": "2024-04-15T13:52:46.984139",
     "exception": false,
     "start_time": "2024-04-15T13:52:46.956792",
     "status": "completed"
    },
    "tags": []
   },
   "outputs": [],
   "source": [
    "from sklearn import linear_model\n",
    "from sklearn.metrics import mean_absolute_error\n",
    "from sklearn.metrics import mean_squared_error, r2_score\n",
    "from sklearn.model_selection import train_test_split"
   ]
  },
  {
   "cell_type": "code",
   "execution_count": 29,
   "id": "8f59f0df",
   "metadata": {
    "execution": {
     "iopub.execute_input": "2024-04-15T13:52:47.020083Z",
     "iopub.status.busy": "2024-04-15T13:52:47.019630Z",
     "iopub.status.idle": "2024-04-15T13:52:47.068509Z",
     "shell.execute_reply": "2024-04-15T13:52:47.066721Z"
    },
    "papermill": {
     "duration": 0.072356,
     "end_time": "2024-04-15T13:52:47.073607",
     "exception": false,
     "start_time": "2024-04-15T13:52:47.001251",
     "status": "completed"
    },
    "tags": []
   },
   "outputs": [
    {
     "data": {
      "text/plain": [
       "0.5743933387233274"
      ]
     },
     "execution_count": 29,
     "metadata": {},
     "output_type": "execute_result"
    }
   ],
   "source": [
    "lr = linear_model.LinearRegression()\n",
    "lr.fit(X_train, Y_train)  #phase d’apprentissage\n",
    "pred = lr.predict(X_test)\n",
    "score=r2_score(Y_test,pred)\n",
    "score                    "
   ]
  },
  {
   "cell_type": "code",
   "execution_count": 30,
   "id": "804288cd",
   "metadata": {
    "execution": {
     "iopub.execute_input": "2024-04-15T13:52:47.151671Z",
     "iopub.status.busy": "2024-04-15T13:52:47.150914Z",
     "iopub.status.idle": "2024-04-15T13:52:47.165881Z",
     "shell.execute_reply": "2024-04-15T13:52:47.164208Z"
    },
    "papermill": {
     "duration": 0.058394,
     "end_time": "2024-04-15T13:52:47.170409",
     "exception": false,
     "start_time": "2024-04-15T13:52:47.112015",
     "status": "completed"
    },
    "tags": []
   },
   "outputs": [
    {
     "name": "stdout",
     "output_type": "stream",
     "text": [
      "Mean Absolute Error: 159774.14595820117\n",
      "Mean Squared Error: 61511571293.172554\n",
      "Root Mean Squared Error: 248015.2642342252\n"
     ]
    }
   ],
   "source": [
    "print('Mean Absolute Error:', mean_absolute_error(Y_test, pred))\n",
    "print('Mean Squared Error:', mean_squared_error(Y_test, pred))\n",
    "print('Root Mean Squared Error:', np.sqrt(mean_squared_error(Y_test, pred)))"
   ]
  },
  {
   "cell_type": "markdown",
   "id": "29091ee3",
   "metadata": {
    "papermill": {
     "duration": 0.016951,
     "end_time": "2024-04-15T13:52:47.209179",
     "exception": false,
     "start_time": "2024-04-15T13:52:47.192228",
     "status": "completed"
    },
    "tags": []
   },
   "source": [
    "**Question 16**\n"
   ]
  },
  {
   "cell_type": "code",
   "execution_count": 31,
   "id": "87795065",
   "metadata": {
    "execution": {
     "iopub.execute_input": "2024-04-15T13:52:47.247392Z",
     "iopub.status.busy": "2024-04-15T13:52:47.246426Z",
     "iopub.status.idle": "2024-04-15T13:52:47.277498Z",
     "shell.execute_reply": "2024-04-15T13:52:47.275705Z"
    },
    "papermill": {
     "duration": 0.054704,
     "end_time": "2024-04-15T13:52:47.282522",
     "exception": false,
     "start_time": "2024-04-15T13:52:47.227818",
     "status": "completed"
    },
    "tags": []
   },
   "outputs": [
    {
     "name": "stderr",
     "output_type": "stream",
     "text": [
      "C:\\Users\\SANJAI.R\\anaconda3\\Lib\\site-packages\\sklearn\\linear_model\\_coordinate_descent.py:628: ConvergenceWarning: Objective did not converge. You might want to increase the number of iterations, check the scale of the features or consider increasing regularisation. Duality gap: 4.874e+14, tolerance: 1.314e+11\n",
      "  model = cd_fast.enet_coordinate_descent(\n"
     ]
    },
    {
     "data": {
      "text/plain": [
       "0.5743908121022973"
      ]
     },
     "execution_count": 31,
     "metadata": {},
     "output_type": "execute_result"
    }
   ],
   "source": [
    "lasso = linear_model.Lasso()\n",
    "lasso.fit(X_train, Y_train)\n",
    "pred = lasso.predict(X_test)\n",
    "score = r2_score(Y_test, pred)\n",
    "score"
   ]
  },
  {
   "cell_type": "code",
   "execution_count": 32,
   "id": "f2b3d57d",
   "metadata": {
    "execution": {
     "iopub.execute_input": "2024-04-15T13:52:47.364888Z",
     "iopub.status.busy": "2024-04-15T13:52:47.362578Z",
     "iopub.status.idle": "2024-04-15T13:52:47.377705Z",
     "shell.execute_reply": "2024-04-15T13:52:47.376043Z"
    },
    "papermill": {
     "duration": 0.062237,
     "end_time": "2024-04-15T13:52:47.383225",
     "exception": false,
     "start_time": "2024-04-15T13:52:47.320988",
     "status": "completed"
    },
    "tags": []
   },
   "outputs": [
    {
     "name": "stdout",
     "output_type": "stream",
     "text": [
      "Mean Absolute Error: 159774.50021154893\n",
      "Mean Squared Error: 61511936457.63958\n",
      "Root Mean Squared Error: 248016.0004065052\n"
     ]
    }
   ],
   "source": [
    "print('Mean Absolute Error:', mean_absolute_error(Y_test, pred))\n",
    "print('Mean Squared Error:', mean_squared_error(Y_test, pred))\n",
    "print('Root Mean Squared Error:', np.sqrt(mean_squared_error(Y_test, pred)))"
   ]
  },
  {
   "cell_type": "code",
   "execution_count": 33,
   "id": "6ebb9991",
   "metadata": {
    "execution": {
     "iopub.execute_input": "2024-04-15T13:52:47.423289Z",
     "iopub.status.busy": "2024-04-15T13:52:47.422888Z",
     "iopub.status.idle": "2024-04-15T13:52:47.452576Z",
     "shell.execute_reply": "2024-04-15T13:52:47.450828Z"
    },
    "papermill": {
     "duration": 0.054105,
     "end_time": "2024-04-15T13:52:47.457688",
     "exception": false,
     "start_time": "2024-04-15T13:52:47.403583",
     "status": "completed"
    },
    "tags": []
   },
   "outputs": [
    {
     "data": {
      "text/plain": [
       "0.5741557973222586"
      ]
     },
     "execution_count": 33,
     "metadata": {},
     "output_type": "execute_result"
    }
   ],
   "source": [
    "ridge = linear_model.Ridge()\n",
    "ridge.fit(X_train, Y_train)\n",
    "pred = ridge.predict(X_test)\n",
    "score = r2_score(Y_test, pred)\n",
    "score"
   ]
  },
  {
   "cell_type": "code",
   "execution_count": 34,
   "id": "c5bc28c5",
   "metadata": {
    "execution": {
     "iopub.execute_input": "2024-04-15T13:52:47.538707Z",
     "iopub.status.busy": "2024-04-15T13:52:47.536064Z",
     "iopub.status.idle": "2024-04-15T13:52:47.551517Z",
     "shell.execute_reply": "2024-04-15T13:52:47.549809Z"
    },
    "papermill": {
     "duration": 0.061265,
     "end_time": "2024-04-15T13:52:47.557453",
     "exception": false,
     "start_time": "2024-04-15T13:52:47.496188",
     "status": "completed"
    },
    "tags": []
   },
   "outputs": [
    {
     "name": "stdout",
     "output_type": "stream",
     "text": [
      "Mean Absolute Error: 159812.14631695882\n",
      "Mean Squared Error: 61545902393.12079\n",
      "Root Mean Squared Error: 248084.46624712477\n"
     ]
    }
   ],
   "source": [
    "print('Mean Absolute Error:', mean_absolute_error(Y_test, pred))\n",
    "print('Mean Squared Error:', mean_squared_error(Y_test, pred))\n",
    "print('Root Mean Squared Error:', np.sqrt(mean_squared_error(Y_test, pred)))"
   ]
  },
  {
   "cell_type": "code",
   "execution_count": 35,
   "id": "93a765b5",
   "metadata": {},
   "outputs": [
    {
     "name": "stdout",
     "output_type": "stream",
     "text": [
      "\u001b[1m29/29\u001b[0m \u001b[32m━━━━━━━━━━━━━━━━━━━━\u001b[0m\u001b[37m\u001b[0m \u001b[1m0s\u001b[0m 2ms/step - loss: 54839324672.0000  \n"
     ]
    },
    {
     "name": "stderr",
     "output_type": "stream",
     "text": [
      "WARNING:absl:You are saving your model as an HDF5 file via `model.save()` or `keras.saving.save_model(model)`. This file format is considered legacy. We recommend using instead the native Keras format, e.g. `model.save('my_model.keras')` or `keras.saving.save_model(model, 'my_model.keras')`. \n"
     ]
    },
    {
     "name": "stdout",
     "output_type": "stream",
     "text": [
      "Keras Model MSE: 61545902080.0\n"
     ]
    }
   ],
   "source": [
    "from tensorflow.keras.models import Sequential\n",
    "from tensorflow.keras.layers import Dense, Input\n",
    "\n",
    "# Initialize a Keras Sequential model\n",
    "keras_model = Sequential()\n",
    "\n",
    "input_shape = X_train.shape[1]  \n",
    "keras_model.add(Input(shape=(input_shape,)))\n",
    "\n",
    "keras_model.add(Dense(1))\n",
    "\n",
    "keras_model.layers[-1].set_weights([ridge.coef_.reshape((-1, 1)), np.array([ridge.intercept_])])\n",
    "\n",
    "# Compile the model\n",
    "keras_model.compile(optimizer='adam', loss='mean_squared_error')\n",
    "\n",
    "keras_score = keras_model.evaluate(X_test, Y_test)\n",
    "print(\"Keras Model MSE:\", keras_score)\n",
    "\n",
    "# Save the Keras model as .h5\n",
    "keras_model.save('ridge_model.h5')\n"
   ]
  },
  {
   "cell_type": "code",
   "execution_count": 36,
   "id": "9ce8f91f",
   "metadata": {},
   "outputs": [
    {
     "data": {
      "text/plain": [
       "12"
      ]
     },
     "execution_count": 36,
     "metadata": {},
     "output_type": "execute_result"
    }
   ],
   "source": [
    "X_train.shape[1]  "
   ]
  },
  {
   "cell_type": "code",
   "execution_count": null,
   "id": "e36e0259",
   "metadata": {},
   "outputs": [],
   "source": []
  },
  {
   "cell_type": "code",
   "execution_count": 37,
   "id": "e7d33519",
   "metadata": {
    "scrolled": true
   },
   "outputs": [
    {
     "name": "stderr",
     "output_type": "stream",
     "text": [
      "WARNING:absl:Compiled the loaded model, but the compiled metrics have yet to be built. `model.compile_metrics` will be empty until you train or evaluate the model.\n"
     ]
    },
    {
     "name": "stdout",
     "output_type": "stream",
     "text": [
      "Please enter the following information:\n",
      "Bedrooms: 3\n",
      "Bathrooms: 1.5\n",
      "Sqft_living: 1340\n",
      "Sqft_lot: 7912\n",
      "Floors: 1.5\n",
      "Waterfront: 0\n",
      "View: 0\n",
      "Condition: 3\n",
      "Sqft_above: 1340\n",
      "Sqft_basement: 0\n",
      "Yr_built: 1955\n",
      "Yr_renovated: 2005\n",
      "\u001b[1m1/1\u001b[0m \u001b[32m━━━━━━━━━━━━━━━━━━━━\u001b[0m\u001b[37m\u001b[0m \u001b[1m0s\u001b[0m 36ms/step\n",
      "Predicted price: [382073.75]\n"
     ]
    }
   ],
   "source": [
    "import numpy as np\n",
    "from tensorflow.keras.models import load_model\n",
    "\n",
    "# Step 1: Load the trained model\n",
    "model = load_model('ridge_model.h5')\n",
    "\n",
    "# Features to collect from the user\n",
    "features = ['bedrooms', 'bathrooms', 'sqft_living', 'sqft_lot', 'floors', 'waterfront', 'view', 'condition', 'sqft_above', 'sqft_basement', 'yr_built', 'yr_renovated']\n",
    "\n",
    "# Step 2: Collect user input for selected features\n",
    "print(\"Please enter the following information:\")\n",
    "user_input = []\n",
    "for feature in features:\n",
    "    value = input(f\"{feature.capitalize()}: \")\n",
    "    # Convert numerical inputs to float\n",
    "    if value.replace('.', '').isdigit():\n",
    "        user_input.append(float(value))\n",
    "    # Convert boolean inputs to int (0 or 1)\n",
    "    elif value.lower() in ['true', 'false']:\n",
    "        user_input.append(int(value.lower() == 'true'))\n",
    "    else:\n",
    "        user_input.append(value)  # Keep non-numeric inputs as strings\n",
    "\n",
    "user_input = np.array([user_input])\n",
    "\n",
    "# Step 3: Predict using the model\n",
    "predicted_output = model.predict(user_input)\n",
    "\n",
    "# Step 4: Display the prediction\n",
    "print(\"Predicted price:\", predicted_output[0])\n"
   ]
  },
  {
   "cell_type": "code",
   "execution_count": null,
   "id": "ce108fae",
   "metadata": {},
   "outputs": [],
   "source": []
  },
  {
   "cell_type": "code",
   "execution_count": null,
   "id": "90114577",
   "metadata": {},
   "outputs": [],
   "source": []
  },
  {
   "cell_type": "code",
   "execution_count": null,
   "id": "71e5df84",
   "metadata": {},
   "outputs": [],
   "source": []
  },
  {
   "cell_type": "code",
   "execution_count": null,
   "id": "3040a67e",
   "metadata": {},
   "outputs": [],
   "source": []
  },
  {
   "cell_type": "code",
   "execution_count": null,
   "id": "6e28e686",
   "metadata": {},
   "outputs": [],
   "source": []
  }
 ],
 "metadata": {
  "kaggle": {
   "accelerator": "none",
   "dataSources": [
    {
     "datasetId": 46927,
     "sourceId": 85203,
     "sourceType": "datasetVersion"
    }
   ],
   "dockerImageVersionId": 30445,
   "isGpuEnabled": false,
   "isInternetEnabled": true,
   "language": "python",
   "sourceType": "notebook"
  },
  "kernelspec": {
   "display_name": "Python 3 (ipykernel)",
   "language": "python",
   "name": "python3"
  },
  "language_info": {
   "codemirror_mode": {
    "name": "ipython",
    "version": 3
   },
   "file_extension": ".py",
   "mimetype": "text/x-python",
   "name": "python",
   "nbconvert_exporter": "python",
   "pygments_lexer": "ipython3",
   "version": "3.11.5"
  },
  "papermill": {
   "default_parameters": {},
   "duration": 20.321138,
   "end_time": "2024-04-15T13:52:48.505729",
   "environment_variables": {},
   "exception": null,
   "input_path": "__notebook__.ipynb",
   "output_path": "__notebook__.ipynb",
   "parameters": {},
   "start_time": "2024-04-15T13:52:28.184591",
   "version": "2.4.0"
  }
 },
 "nbformat": 4,
 "nbformat_minor": 5
}
